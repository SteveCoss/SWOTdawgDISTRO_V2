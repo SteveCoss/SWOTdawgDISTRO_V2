{
  "nbformat": 4,
  "nbformat_minor": 0,
  "metadata": {
    "colab": {
      "provenance": [],
      "include_colab_link": true
    },
    "kernelspec": {
      "name": "python3",
      "display_name": "Python 3"
    },
    "language_info": {
      "name": "python"
    }
  },
  "cells": [
    {
      "cell_type": "markdown",
      "metadata": {
        "id": "view-in-github",
        "colab_type": "text"
      },
      "source": [
        "<a href=\"https://colab.research.google.com/github/SteveCoss/SWOTdawgDISTRO_V2/blob/main/Explore_CV_Orbit_V2.ipynb\" target=\"_parent\"><img src=\"https://colab.research.google.com/assets/colab-badge.svg\" alt=\"Open In Colab\"/></a>"
      ]
    },
    {
      "cell_type": "markdown",
      "source": [
        "A notebook for vizualizing reaches in the CAL/VAL orbit and thier gage satus in the SOS"
      ],
      "metadata": {
        "id": "RJeGlh0bQ89B"
      }
    },
    {
      "cell_type": "code",
      "execution_count": null,
      "metadata": {
        "id": "gF-Svb1-IWPm"
      },
      "outputs": [],
      "source": [
        "import os, sys\n",
        "from google.colab import drive\n",
        "drive.mount('/content/gdrive')\n",
        "nb_path = '/content/notebooks'\n",
        "os.symlink('/content/gdrive/My Drive/DAWGnotebooks/Path_files', nb_path)\n",
        "sys.path.insert(0,nb_path)"
      ]
    },
    {
      "cell_type": "code",
      "source": [
        "#reset working directory to distro folder\n",
        "!pwd\n",
        "import os\n",
        "os.chdir(\"/content/gdrive/My Drive/DAWGnotebooks/dist_6.0\")\n",
        "!pwd"
      ],
      "metadata": {
        "id": "uvFCX4ME1I1r"
      },
      "execution_count": null,
      "outputs": []
    },
    {
      "cell_type": "code",
      "source": [
        "import os,sys\n",
        "import datetime\n",
        "import json\n",
        "\n",
        "import matplotlib.pyplot as plt\n",
        "import numpy as np\n",
        "import pandas as pd\n",
        "import geopandas as gpd\n",
        "\n",
        "from netCDF4 import Dataset,chartostring\n",
        "from pathlib import Path\n",
        "\n",
        "import folium\n",
        "\n",
        "# Register pandas converters for matplotlib\n",
        "from pandas.plotting import register_matplotlib_converters\n",
        "register_matplotlib_converters()"
      ],
      "metadata": {
        "id": "GzBT4fGPQ6aH"
      },
      "execution_count": null,
      "outputs": []
    },
    {
      "cell_type": "code",
      "source": [
        "# Using embedded version of swotdawgviz\n",
        "from swotdawgviz.swotdawgviz import io as sdvio\n",
        "from swotdawgviz.swotdawgviz import maps as sdvm\n"
      ],
      "metadata": {
        "id": "VYdp-xr8Rz71"
      },
      "execution_count": null,
      "outputs": []
    },
    {
      "cell_type": "code",
      "source": [
        "# create a map so we can locate a particular reach to explore\n",
        "InputDir=Path('.')\n",
        "CV_dir=InputDir.joinpath('CVshapes')\n",
        "CVorb_dir=InputDir.joinpath('CVorb')\n",
        "\n",
        "\n",
        "#read shape\n",
        "#simplify geo\n",
        "#generate reach map objects\n",
        "#orb\n",
        "orb = sdvio.SwordShapefile(os.path.join(CVorb_dir, \"swot_calval_orbit_june2015-v2_swath.shp\"))\n",
        "sim_geo = gpd.GeoSeries(orb.dataset['geometry']).simplify(tolerance=0.001)\n",
        "orb.dataset['geometry']=sim_geo\n",
        "rmapC = sdvm.ReachesMap(CVcal.dataset)\n",
        "\n",
        "#cal\n",
        "CVcal = sdvio.SwordShapefile(os.path.join(CV_dir, \"CVcal.shp\"))\n",
        "sim_geo = gpd.GeoSeries(CVcal.dataset['geometry']).simplify(tolerance=0.001)\n",
        "CVcal.dataset['geometry']=sim_geo\n",
        "rmapC = sdvm.ReachesMap(CVcal.dataset)\n",
        "#val\n",
        "CVval = sdvio.SwordShapefile(os.path.join(CV_dir, \"CVval.shp\"))\n",
        "sim_geo = gpd.GeoSeries(CVval.dataset['geometry']).simplify(tolerance=0.001)\n",
        "CVval.dataset['geometry']=sim_geo\n",
        "rmapV = sdvm.ReachesMap(CVval.dataset)\n",
        "#his\n",
        "CVhis = sdvio.SwordShapefile(os.path.join(CV_dir, \"CVhis.shp\"))\n",
        "sim_geo = gpd.GeoSeries(CVhis.dataset['geometry']).simplify(tolerance=0.001)\n",
        "CVhis.dataset['geometry']=sim_geo\n",
        "rmapH = sdvm.ReachesMap(CVhis.dataset)\n",
        "\n"
      ],
      "metadata": {
        "id": "4E4JgYrDR-XX"
      },
      "execution_count": null,
      "outputs": []
    },
    {
      "cell_type": "code",
      "source": [
        "#make gage map objects\n",
        "gmapC = sdvm.GagesMap(CVcal.dataset)\n",
        "gmapV = sdvm.GagesMap(CVval.dataset)\n",
        "gmapH = sdvm.GagesMap(CVhis.dataset)\n"
      ],
      "metadata": {
        "id": "3k5lnFDriQbV"
      },
      "execution_count": null,
      "outputs": []
    },
    {
      "cell_type": "markdown",
      "source": [
        "Show **all** orbit reaches"
      ],
      "metadata": {
        "id": "6t3h6Ek3NXGO"
      }
    },
    {
      "cell_type": "code",
      "source": [
        "#plot all reaches in the orbit (this cell might run out or ram on free colab)\n",
        "#pick any sword variable for varname. here we are using flow accumulation area.\n",
        "ridmapC = rmapC.get_centerlines_map(varname=\"facc\",varlimits=[5000,20000])\n",
        "ridmapV = rmapV.get_centerlines_map(varname=\"facc\",varlimits=[5000,20000])\n",
        "ridmapH = rmapH.get_centerlines_map(varname=\"facc\",varlimits=[5000,20000])\n",
        "\n",
        "ridmapC\n",
        "ridmapV\n",
        "ridmapH"
      ],
      "metadata": {
        "id": "P_nmDY4olVZw"
      },
      "execution_count": null,
      "outputs": []
    },
    {
      "cell_type": "markdown",
      "source": [
        "Where are gages use for **constrained** runs"
      ],
      "metadata": {
        "id": "ixwwzh_kNp7K"
      }
    },
    {
      "cell_type": "code",
      "source": [
        "# plot up gage locations\n",
        "\n",
        "\n",
        "ridmap = rmap.get_centerlines_map(varname=\"facc\")\n",
        "gagesmapC = gmapC.get_map(varname_id=None, shape=\"circle\", add_to_map=ridmap)\n",
        "\n",
        "ridmap"
      ],
      "metadata": {
        "id": "dPVFG_TsK3LV"
      },
      "execution_count": null,
      "outputs": []
    },
    {
      "cell_type": "markdown",
      "source": [
        "**Validation** gages?"
      ],
      "metadata": {
        "id": "9tV2WQucVtwv"
      }
    },
    {
      "cell_type": "code",
      "source": [
        "ridmap = rmap.get_centerlines_map(varname=\"facc\")\n",
        "gagesmapV = gmapV.get_map(varname_id=None, shape=\"circle\", add_to_map=ridmap)\n",
        "ridmap"
      ],
      "metadata": {
        "id": "-2t4BF_LVewB"
      },
      "execution_count": null,
      "outputs": []
    },
    {
      "cell_type": "markdown",
      "source": [
        "**Historic** gages?"
      ],
      "metadata": {
        "id": "_jXkiDY_Vt1h"
      }
    },
    {
      "cell_type": "code",
      "source": [
        "ridmap = rmap.get_centerlines_map(varname=\"facc\")\n",
        "gagesmapH = gmapH.get_map(varname_id=None, shape=\"circle\", add_to_map=ridmap)\n",
        "ridmap"
      ],
      "metadata": {
        "id": "MpigSaqfHqx1"
      },
      "execution_count": null,
      "outputs": []
    }
  ]
}