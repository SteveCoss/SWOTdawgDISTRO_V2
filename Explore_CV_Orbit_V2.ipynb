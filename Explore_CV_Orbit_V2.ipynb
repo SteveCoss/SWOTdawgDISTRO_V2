{
  "nbformat": 4,
  "nbformat_minor": 0,
  "metadata": {
    "colab": {
      "provenance": [],
      "include_colab_link": true
    },
    "kernelspec": {
      "name": "python3",
      "display_name": "Python 3"
    },
    "language_info": {
      "name": "python"
    }
  },
  "cells": [
    {
      "cell_type": "markdown",
      "metadata": {
        "id": "view-in-github",
        "colab_type": "text"
      },
      "source": [
        "<a href=\"https://colab.research.google.com/github/SteveCoss/SWOTdawgDISTRO_V2/blob/main/Explore_CV_Orbit_V2.ipynb\" target=\"_parent\"><img src=\"https://colab.research.google.com/assets/colab-badge.svg\" alt=\"Open In Colab\"/></a>"
      ]
    },
    {
      "cell_type": "markdown",
      "source": [
        "A notebook for vizualizing reaches in the CAL/VAL orbit and thier gage satus in the SOS"
      ],
      "metadata": {
        "id": "RJeGlh0bQ89B"
      }
    },
    {
      "cell_type": "code",
      "execution_count": 1,
      "metadata": {
        "id": "gF-Svb1-IWPm",
        "colab": {
          "base_uri": "https://localhost:8080/"
        },
        "outputId": "73943a19-c5f7-409c-e9e8-19cb3a30d782"
      },
      "outputs": [
        {
          "output_type": "stream",
          "name": "stdout",
          "text": [
            "Mounted at /content/gdrive\n"
          ]
        }
      ],
      "source": [
        "import os, sys\n",
        "from google.colab import drive\n",
        "drive.mount('/content/gdrive')\n",
        "nb_path = '/content/notebooks'\n",
        "os.symlink('/content/gdrive/My Drive/DAWGnotebooks/Path_files', nb_path)\n",
        "sys.path.insert(0,nb_path)"
      ]
    },
    {
      "cell_type": "code",
      "source": [
        "#reset working directory to distro folder\n",
        "!pwd\n",
        "import os\n",
        "os.chdir(\"/content/gdrive/My Drive/DAWGnotebooks/dist_6.0\")\n",
        "!pwd"
      ],
      "metadata": {
        "id": "uvFCX4ME1I1r",
        "colab": {
          "base_uri": "https://localhost:8080/"
        },
        "outputId": "bb298d23-823d-4d53-a924-31f3ce23ab53"
      },
      "execution_count": 2,
      "outputs": [
        {
          "output_type": "stream",
          "name": "stdout",
          "text": [
            "/content\n",
            "/content/gdrive/My Drive/DAWGnotebooks/dist_6.0\n"
          ]
        }
      ]
    },
    {
      "cell_type": "code",
      "source": [
        "import os,sys\n",
        "import datetime\n",
        "import json\n",
        "\n",
        "import matplotlib.pyplot as plt\n",
        "import numpy as np\n",
        "import pandas as pd\n",
        "import geopandas as gpd\n",
        "\n",
        "from netCDF4 import Dataset,chartostring\n",
        "from pathlib import Path\n",
        "\n",
        "\n",
        "import folium\n",
        "\n",
        "# Register pandas converters for matplotlib\n",
        "from pandas.plotting import register_matplotlib_converters\n",
        "register_matplotlib_converters()"
      ],
      "metadata": {
        "id": "GzBT4fGPQ6aH"
      },
      "execution_count": 3,
      "outputs": []
    },
    {
      "cell_type": "code",
      "source": [
        "# Using embedded version of swotdawgviz\n",
        "from swotdawgviz.swotdawgviz import io as sdvio\n",
        "from swotdawgviz.swotdawgviz import maps as sdvm\n"
      ],
      "metadata": {
        "id": "VYdp-xr8Rz71",
        "colab": {
          "base_uri": "https://localhost:8080/"
        },
        "outputId": "389a83ea-2375-4430-f2f6-0f9e85eb4f73"
      },
      "execution_count": 4,
      "outputs": [
        {
          "output_type": "stream",
          "name": "stdout",
          "text": [
            "This library is supposed to run on a Jupyter notebook. Please be aware that some method may not work\n"
          ]
        }
      ]
    },
    {
      "cell_type": "code",
      "source": [
        "\n",
        "Rid=orb.dataset.reach_id\n",
        "Rid\n",
        "Cid=[int(str(reach)[:1]) for reach in Rid]\n",
        "Ucid=np.unique(Cid)"
      ],
      "metadata": {
        "id": "n8cPPMivDRLT"
      },
      "execution_count": 44,
      "outputs": []
    },
    {
      "cell_type": "code",
      "source": [
        "Ucid\n",
        "G1=np.where(Cid==Ucid[0]|Cid==Ucid[1]|Cid==Ucid[2])\n",
        "G2=np.where(Cid==Ucid[3]|Cid==Ucid[4]|Cid==Ucid[5])\n",
        "G3=np.where(Cid==Ucid[6]|Cid==Ucid[7]|Cid==Ucid[8])"
      ],
      "metadata": {
        "colab": {
          "base_uri": "https://localhost:8080/",
          "height": 217
        },
        "id": "pUOOmKoMG_Pe",
        "outputId": "fe96ea2a-7bc0-4d54-9955-6f7ba9e99632"
      },
      "execution_count": 50,
      "outputs": [
        {
          "output_type": "error",
          "ename": "ValueError",
          "evalue": "ignored",
          "traceback": [
            "\u001b[0;31m---------------------------------------------------------------------------\u001b[0m",
            "\u001b[0;31mValueError\u001b[0m                                Traceback (most recent call last)",
            "\u001b[0;32m<ipython-input-50-33720068fddd>\u001b[0m in \u001b[0;36m<cell line: 2>\u001b[0;34m()\u001b[0m\n\u001b[1;32m      1\u001b[0m \u001b[0mUcid\u001b[0m\u001b[0;34m\u001b[0m\u001b[0;34m\u001b[0m\u001b[0m\n\u001b[0;32m----> 2\u001b[0;31m \u001b[0mG1\u001b[0m\u001b[0;34m=\u001b[0m\u001b[0mnp\u001b[0m\u001b[0;34m.\u001b[0m\u001b[0mwhere\u001b[0m\u001b[0;34m(\u001b[0m\u001b[0mCid\u001b[0m\u001b[0;34m==\u001b[0m\u001b[0mUcid\u001b[0m\u001b[0;34m[\u001b[0m\u001b[0;36m0\u001b[0m\u001b[0;34m]\u001b[0m\u001b[0;34m|\u001b[0m\u001b[0mCid\u001b[0m\u001b[0;34m==\u001b[0m\u001b[0mUcid\u001b[0m\u001b[0;34m[\u001b[0m\u001b[0;36m1\u001b[0m\u001b[0;34m]\u001b[0m\u001b[0;34m|\u001b[0m\u001b[0mCid\u001b[0m\u001b[0;34m==\u001b[0m\u001b[0mUcid\u001b[0m\u001b[0;34m[\u001b[0m\u001b[0;36m2\u001b[0m\u001b[0;34m]\u001b[0m\u001b[0;34m)\u001b[0m\u001b[0;34m\u001b[0m\u001b[0;34m\u001b[0m\u001b[0m\n\u001b[0m\u001b[1;32m      3\u001b[0m \u001b[0mG2\u001b[0m\u001b[0;34m=\u001b[0m\u001b[0mnp\u001b[0m\u001b[0;34m.\u001b[0m\u001b[0mwhere\u001b[0m\u001b[0;34m(\u001b[0m\u001b[0mCid\u001b[0m\u001b[0;34m==\u001b[0m\u001b[0mUcid\u001b[0m\u001b[0;34m[\u001b[0m\u001b[0;36m3\u001b[0m\u001b[0;34m]\u001b[0m\u001b[0;34m|\u001b[0m\u001b[0mCid\u001b[0m\u001b[0;34m==\u001b[0m\u001b[0mUcid\u001b[0m\u001b[0;34m[\u001b[0m\u001b[0;36m4\u001b[0m\u001b[0;34m]\u001b[0m\u001b[0;34m|\u001b[0m\u001b[0mCid\u001b[0m\u001b[0;34m==\u001b[0m\u001b[0mUcid\u001b[0m\u001b[0;34m[\u001b[0m\u001b[0;36m5\u001b[0m\u001b[0;34m]\u001b[0m\u001b[0;34m)\u001b[0m\u001b[0;34m\u001b[0m\u001b[0;34m\u001b[0m\u001b[0m\n\u001b[1;32m      4\u001b[0m \u001b[0mG3\u001b[0m\u001b[0;34m=\u001b[0m\u001b[0mnp\u001b[0m\u001b[0;34m.\u001b[0m\u001b[0mwhere\u001b[0m\u001b[0;34m(\u001b[0m\u001b[0mCid\u001b[0m\u001b[0;34m==\u001b[0m\u001b[0mUcid\u001b[0m\u001b[0;34m[\u001b[0m\u001b[0;36m6\u001b[0m\u001b[0;34m]\u001b[0m\u001b[0;34m|\u001b[0m\u001b[0mCid\u001b[0m\u001b[0;34m==\u001b[0m\u001b[0mUcid\u001b[0m\u001b[0;34m[\u001b[0m\u001b[0;36m7\u001b[0m\u001b[0;34m]\u001b[0m\u001b[0;34m|\u001b[0m\u001b[0mCid\u001b[0m\u001b[0;34m==\u001b[0m\u001b[0mUcid\u001b[0m\u001b[0;34m[\u001b[0m\u001b[0;36m8\u001b[0m\u001b[0;34m]\u001b[0m\u001b[0;34m)\u001b[0m\u001b[0;34m\u001b[0m\u001b[0;34m\u001b[0m\u001b[0m\n",
            "\u001b[0;31mValueError\u001b[0m: The truth value of an array with more than one element is ambiguous. Use a.any() or a.all()"
          ]
        }
      ]
    },
    {
      "cell_type": "code",
      "source": [
        "G1"
      ],
      "metadata": {
        "id": "W-OsGTeeIvxf",
        "outputId": "52ad826b-3a46-46b8-e906-da601ad99e4a",
        "colab": {
          "base_uri": "https://localhost:8080/"
        }
      },
      "execution_count": 47,
      "outputs": [
        {
          "output_type": "execute_result",
          "data": {
            "text/plain": [
              "(array([], dtype=int64),)"
            ]
          },
          "metadata": {},
          "execution_count": 47
        }
      ]
    },
    {
      "cell_type": "code",
      "source": [
        "# create a map so we can locate a particular reach to explore\n",
        "InputDir=Path('.')\n",
        "CV_dir=InputDir.joinpath('CVshapes')\n",
        "\n",
        "\n",
        "\n",
        "#read shapes\n",
        "#simplify geo\n",
        "#generate reach map objects\n",
        "#orb\n",
        "orb = sdvio.SwordShapefile(os.path.join(CV_dir, \"ALLcvREACHES.shp\"))\n",
        "Rid=orb.dataset.reach_id\n",
        "sim_geo = gpd.GeoSeries(orb.dataset['geometry']).simplify(tolerance=0.001)\n",
        "orb.dataset['geometry']=sim_geo\n",
        "Rid=orb.dataset.reach_id\n",
        "Rid\n",
        "Cid=[int(str(reach)[:1]) for reach in Rid]\n",
        "Ucid=np.unique(Cid)\n",
        "G1=np.where(Cid==Ucud[0:2])\n",
        "G2=np.where(Cid==Ucud[3:5])\n",
        "G3=np.where(Cid==Ucud[6:8])\n",
        "Treaches.dataset.loc[con[0],:]\n",
        "\n",
        "rmapO = sdvm.ReachesMap(orb.dataset)\n",
        "\n",
        "#cal\n",
        "CVcal = sdvio.SwordShapefile(os.path.join(CV_dir, \"CVcal.shp\"))\n",
        "sim_geo = gpd.GeoSeries(CVcal.dataset['geometry']).simplify(tolerance=0.001)\n",
        "CVcal.dataset['geometry']=sim_geo\n",
        "rmapC = sdvm.ReachesMap(CVcal.dataset)\n",
        "#val\n",
        "CVval = sdvio.SwordShapefile(os.path.join(CV_dir, \"CVval.shp\"))\n",
        "sim_geo = gpd.GeoSeries(CVval.dataset['geometry']).simplify(tolerance=0.001)\n",
        "CVval.dataset['geometry']=sim_geo\n",
        "rmapV = sdvm.ReachesMap(CVval.dataset)\n",
        "#his\n",
        "CVhis = sdvio.SwordShapefile(os.path.join(CV_dir, \"CVhis.shp\"))\n",
        "sim_geo = gpd.GeoSeries(CVhis.dataset['geometry']).simplify(tolerance=0.001)\n",
        "CVhis.dataset['geometry']=sim_geo\n",
        "rmapH = sdvm.ReachesMap(CVhis.dataset)\n",
        "\n"
      ],
      "metadata": {
        "id": "4E4JgYrDR-XX"
      },
      "execution_count": 18,
      "outputs": []
    },
    {
      "cell_type": "code",
      "source": [
        "#make gage map objects\n",
        "gmapC = sdvm.GagesMap(CVcal.dataset)\n",
        "gmapV = sdvm.GagesMap(CVval.dataset)\n",
        "gmapH = sdvm.GagesMap(CVhis.dataset)\n"
      ],
      "metadata": {
        "id": "3k5lnFDriQbV"
      },
      "execution_count": 19,
      "outputs": []
    },
    {
      "cell_type": "code",
      "source": [
        "#plot all reaches in the orbit (this cell might run out or ram on free colab)\n",
        "\n",
        "#pick any sword variable for varname. here we are using flow accumulation area.\n",
        "ridmapO = rmapO.get_centerlines_map(varname=\"facc\",varlimits=[5000,20000])\n",
        "\n",
        "ridmapO"
      ],
      "metadata": {
        "id": "2k3qg4Wc_Xcx"
      },
      "execution_count": 20,
      "outputs": []
    },
    {
      "cell_type": "markdown",
      "source": [
        "Show **all** orbit reaches"
      ],
      "metadata": {
        "id": "6t3h6Ek3NXGO"
      }
    },
    {
      "cell_type": "code",
      "source": [
        "#plot all reaches in the orbit (this cell might run out or ram on free colab)\n",
        "#pick any sword variable for varname. here we are using flow accumulation area.\n",
        "ridmapC = rmapC.get_centerlines_map(varname=\"facc\",varlimits=[5000,20000])\n",
        "ridmapV = rmapV.get_centerlines_map(varname=\"facc\",varlimits=[5000,20000])\n",
        "ridmapH = rmapH.get_centerlines_map(varname=\"facc\",varlimits=[5000,20000])\n",
        "\n",
        "ridmapC\n",
        "ridmapV\n",
        "ridmapH"
      ],
      "metadata": {
        "id": "P_nmDY4olVZw"
      },
      "execution_count": null,
      "outputs": []
    },
    {
      "cell_type": "markdown",
      "source": [
        "Where are gages use for **constrained** runs"
      ],
      "metadata": {
        "id": "ixwwzh_kNp7K"
      }
    },
    {
      "cell_type": "code",
      "source": [
        "# plot up gage locations\n",
        "\n",
        "\n",
        "ridmap = rmap.get_centerlines_map(varname=\"facc\")\n",
        "gagesmapC = gmapC.get_map(varname_id=None, shape=\"circle\", add_to_map=ridmap)\n",
        "\n",
        "ridmap"
      ],
      "metadata": {
        "id": "dPVFG_TsK3LV"
      },
      "execution_count": null,
      "outputs": []
    },
    {
      "cell_type": "markdown",
      "source": [
        "**Validation** gages?"
      ],
      "metadata": {
        "id": "9tV2WQucVtwv"
      }
    },
    {
      "cell_type": "code",
      "source": [
        "ridmap = rmap.get_centerlines_map(varname=\"facc\")\n",
        "gagesmapV = gmapV.get_map(varname_id=None, shape=\"circle\", add_to_map=ridmap)\n",
        "ridmap"
      ],
      "metadata": {
        "id": "-2t4BF_LVewB"
      },
      "execution_count": null,
      "outputs": []
    },
    {
      "cell_type": "markdown",
      "source": [
        "**Historic** gages?"
      ],
      "metadata": {
        "id": "_jXkiDY_Vt1h"
      }
    },
    {
      "cell_type": "code",
      "source": [
        "ridmap = rmap.get_centerlines_map(varname=\"facc\")\n",
        "gagesmapH = gmapH.get_map(varname_id=None, shape=\"circle\", add_to_map=ridmap)\n",
        "ridmap"
      ],
      "metadata": {
        "id": "MpigSaqfHqx1"
      },
      "execution_count": null,
      "outputs": []
    }
  ]
}