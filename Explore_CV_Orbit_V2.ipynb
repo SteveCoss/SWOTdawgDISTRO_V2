{
  "nbformat": 4,
  "nbformat_minor": 0,
  "metadata": {
    "colab": {
      "provenance": [],
      "include_colab_link": true
    },
    "kernelspec": {
      "name": "python3",
      "display_name": "Python 3"
    },
    "language_info": {
      "name": "python"
    }
  },
  "cells": [
    {
      "cell_type": "markdown",
      "metadata": {
        "id": "view-in-github",
        "colab_type": "text"
      },
      "source": [
        "<a href=\"https://colab.research.google.com/github/SteveCoss/SWOTdawgDISTRO_V2/blob/main/Explore_CV_Orbit_V2.ipynb\" target=\"_parent\"><img src=\"https://colab.research.google.com/assets/colab-badge.svg\" alt=\"Open In Colab\"/></a>"
      ]
    },
    {
      "cell_type": "markdown",
      "source": [
        "A notebook for vizualizing reaches in the CAL/VAL orbit and thier gage satus in the SOS"
      ],
      "metadata": {
        "id": "RJeGlh0bQ89B"
      }
    },
    {
      "cell_type": "code",
      "execution_count": 1,
      "metadata": {
        "id": "gF-Svb1-IWPm",
        "colab": {
          "base_uri": "https://localhost:8080/"
        },
        "outputId": "e1e8ea17-3a3d-4c0f-8b09-69052732fdb3"
      },
      "outputs": [
        {
          "output_type": "stream",
          "name": "stdout",
          "text": [
            "Mounted at /content/gdrive\n"
          ]
        }
      ],
      "source": [
        "import os, sys\n",
        "from google.colab import drive\n",
        "drive.mount('/content/gdrive')\n",
        "nb_path = '/content/notebooks'\n",
        "os.symlink('/content/gdrive/My Drive/DAWGnotebooks/Path_files', nb_path)\n",
        "sys.path.insert(0,nb_path)"
      ]
    },
    {
      "cell_type": "code",
      "source": [
        "#reset working directory to distro folder\n",
        "!pwd\n",
        "import os\n",
        "os.chdir(\"/content/gdrive/My Drive/DAWGnotebooks/dist_6.0\")\n",
        "!pwd"
      ],
      "metadata": {
        "colab": {
          "base_uri": "https://localhost:8080/"
        },
        "id": "uvFCX4ME1I1r",
        "outputId": "3c9f98ff-42d7-4c10-972c-45d7e4ef3ae1"
      },
      "execution_count": 6,
      "outputs": [
        {
          "output_type": "stream",
          "name": "stdout",
          "text": [
            "/content\n",
            "/content/gdrive/My Drive/DAWGnotebooks/dist_6.0\n"
          ]
        }
      ]
    },
    {
      "cell_type": "code",
      "source": [
        "import os,sys\n",
        "import datetime\n",
        "import json\n",
        "\n",
        "import matplotlib.pyplot as plt\n",
        "import numpy as np\n",
        "import pandas as pd\n",
        "import geopandas as gpd\n",
        "\n",
        "from netCDF4 import Dataset,chartostring\n",
        "from pathlib import Path\n",
        "\n",
        "import folium\n",
        "\n",
        "# Register pandas converters for matplotlib\n",
        "from pandas.plotting import register_matplotlib_converters\n",
        "register_matplotlib_converters()"
      ],
      "metadata": {
        "id": "GzBT4fGPQ6aH"
      },
      "execution_count": 2,
      "outputs": []
    },
    {
      "cell_type": "code",
      "source": [
        "# Using embedded version of swotdawgviz\n",
        "from swotdawgviz.swotdawgviz import io as sdvio\n",
        "from swotdawgviz.swotdawgviz import maps as sdvm\n"
      ],
      "metadata": {
        "id": "VYdp-xr8Rz71",
        "colab": {
          "base_uri": "https://localhost:8080/"
        },
        "outputId": "4b2fe19c-3dde-4ec9-9d11-ab746c708322"
      },
      "execution_count": 3,
      "outputs": [
        {
          "output_type": "stream",
          "name": "stdout",
          "text": [
            "This library is supposed to run on a Jupyter notebook. Please be aware that some method may not work\n"
          ]
        }
      ]
    },
    {
      "cell_type": "code",
      "source": [
        "# create a map so we can locate a particular reach to explore\n",
        "InputDir=Path('.')\n",
        "CV_dir=InputDir.joinpath('CVshapes')\n",
        "#pic a continent\n",
        "#NA,SA,AS,OC,EU,AF\n",
        "cont=\"NA\"\n",
        "#read shape\n",
        "CVcal = sdvio.SwordShapefile(os.path.join(CV_dir, \"CVcal.shp\"))\n",
        "CVval = sdvio.SwordShapefile(os.path.join(CV_dir, \"CVval.shp\"))\n",
        "CVhis = sdvio.SwordShapefile(os.path.join(CV_dir, \"CVhis.shp\"))\n",
        "\n"
      ],
      "metadata": {
        "id": "4E4JgYrDR-XX"
      },
      "execution_count": 8,
      "outputs": []
    },
    {
      "cell_type": "code",
      "source": [
        "#index hist(historic), con(used to constreign), or val(reserved for validation) for gaged reaches\n",
        "con=np.where(Treaches.dataset.con==1)\n",
        "val=np.where(Treaches.dataset.val==1)\n",
        "histo=np.where(Treaches.dataset.histo==1)\n",
        "\n",
        "gmapC = sdvm.GagesMap(Treaches.dataset.loc[con[0],:])\n",
        "gmapV = sdvm.GagesMap(Treaches.dataset.loc[val[0],:])\n",
        "gmapH = sdvm.GagesMap(Treaches.dataset.loc[histo[0],:])\n"
      ],
      "metadata": {
        "id": "3k5lnFDriQbV"
      },
      "execution_count": null,
      "outputs": []
    },
    {
      "cell_type": "markdown",
      "source": [
        "Show **all** orbit reaches"
      ],
      "metadata": {
        "id": "6t3h6Ek3NXGO"
      }
    },
    {
      "cell_type": "code",
      "source": [
        "#plot all reaches in the orbit (this cell might run out or ram on free colab)\n",
        "Mdata=Treaches.dataset\n",
        "sim_geo = gpd.GeoSeries(Mdata['geometry']).simplify(tolerance=0.001)\n",
        "Mdata['geometry']=sim_geo\n",
        "rmap = sdvm.ReachesMap(Mdata)\n",
        "#pick any sword variable for varname. here we are using flow accumulation area.\n",
        "ridmap = rmap.get_centerlines_map(varname=\"facc\")\n",
        "\n",
        "ridmap"
      ],
      "metadata": {
        "id": "P_nmDY4olVZw"
      },
      "execution_count": null,
      "outputs": []
    },
    {
      "cell_type": "markdown",
      "source": [
        "Where are gages use for **constrained** runs"
      ],
      "metadata": {
        "id": "ixwwzh_kNp7K"
      }
    },
    {
      "cell_type": "code",
      "source": [
        "# plot up gage locations\n",
        "\n",
        "\n",
        "ridmap = rmap.get_centerlines_map(varname=\"facc\")\n",
        "gagesmapC = gmapC.get_map(varname_id=None, shape=\"circle\", add_to_map=ridmap)\n",
        "\n",
        "ridmap"
      ],
      "metadata": {
        "id": "dPVFG_TsK3LV"
      },
      "execution_count": null,
      "outputs": []
    },
    {
      "cell_type": "markdown",
      "source": [
        "**Validation** gages?"
      ],
      "metadata": {
        "id": "9tV2WQucVtwv"
      }
    },
    {
      "cell_type": "code",
      "source": [
        "ridmap = rmap.get_centerlines_map(varname=\"facc\")\n",
        "gagesmapV = gmapV.get_map(varname_id=None, shape=\"circle\", add_to_map=ridmap)\n",
        "ridmap"
      ],
      "metadata": {
        "id": "-2t4BF_LVewB"
      },
      "execution_count": null,
      "outputs": []
    },
    {
      "cell_type": "markdown",
      "source": [
        "**Historic** gages?"
      ],
      "metadata": {
        "id": "_jXkiDY_Vt1h"
      }
    },
    {
      "cell_type": "code",
      "source": [
        "ridmap = rmap.get_centerlines_map(varname=\"facc\")\n",
        "gagesmapH = gmapH.get_map(varname_id=None, shape=\"circle\", add_to_map=ridmap)\n",
        "ridmap"
      ],
      "metadata": {
        "id": "MpigSaqfHqx1"
      },
      "execution_count": null,
      "outputs": []
    }
  ]
}